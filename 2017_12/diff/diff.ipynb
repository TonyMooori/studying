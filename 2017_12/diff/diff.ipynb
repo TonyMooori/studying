{
 "cells": [
  {
   "cell_type": "code",
   "execution_count": 1,
   "metadata": {
    "collapsed": true
   },
   "outputs": [],
   "source": [
    "class SymbolObjects:\n",
    "    def __add__(self, other):\n",
    "        if isinstance(other,SymbolObjects):\n",
    "            return Add(self,other)\n",
    "        else:\n",
    "            return Add(self,Symbol(other))\n",
    "    \n",
    "    def __mul__(self,other):\n",
    "        if isinstance(other,SymbolObjects):\n",
    "            return Mult(self,other)\n",
    "        else:\n",
    "            return Mult(self,Symbol(other))"
   ]
  },
  {
   "cell_type": "code",
   "execution_count": 2,
   "metadata": {
    "collapsed": true
   },
   "outputs": [],
   "source": [
    "class Symbol(SymbolObjects):\n",
    "    def __init__(self,s):\n",
    "        self.value = s\n",
    "        \n",
    "        if isinstance(s,str):\n",
    "            self.type = \"symbol\"\n",
    "        elif isinstance(s,int):\n",
    "            self.type = \"int\"\n",
    "        elif isinstance(s,float):\n",
    "            self.type = \"float\"\n",
    "        else:\n",
    "            raise Exception(\"Unexpected symbol\")\n",
    "        \n",
    "    def __str__(self):\n",
    "        return str(self.value)\n",
    "\n",
    "    def __repr__(self):\n",
    "        return self.__str__()\n",
    "    \n",
    "    def derivative(self,dx):\n",
    "        if self.type != \"symbol\":\n",
    "            return Symbol(0)\n",
    "        \n",
    "        if dx == self:\n",
    "            return Symbol(1)\n",
    "        else:\n",
    "            return Symbol(0)\n",
    "    \n",
    "    def __eq__(self, other):\n",
    "        if not isinstance(other,SymbolObjects):\n",
    "            return self == Symbol(other)\n",
    "        \n",
    "        if self.type != other.type:\n",
    "            return False\n",
    "        \n",
    "        return self.value == other.value\n",
    "    \n",
    "    def simplify(self):\n",
    "        return self"
   ]
  },
  {
   "cell_type": "code",
   "execution_count": 3,
   "metadata": {
    "collapsed": true
   },
   "outputs": [],
   "source": [
    "def symbols(s):\n",
    "    arr = s.split()\n",
    "    return [Symbol(a) for a in arr]\n",
    "\n",
    "def symbolize(xs):\n",
    "    if isinstance(xs,SymbolObjects):\n",
    "        return xs\n",
    "    \n",
    "    if not isinstance(xs,list):\n",
    "        return Symbol(xs)\n",
    "    \n",
    "    for i in range(len(xs)):\n",
    "        if not isinstance(xs[i],SymbolObjects):\n",
    "            xs[i] = Symbol(xs[i])\n",
    "    return xs\n",
    "\n",
    "def simplify(eq):\n",
    "    eq = eq.simplify()\n",
    "    s0 = str(eq)\n",
    "    \n",
    "    while True:\n",
    "        eq = eq.simplify()\n",
    "        s1 = str(eq)\n",
    "        if s0 == s1:\n",
    "            break\n",
    "        else:\n",
    "            s0 = s1\n",
    "    return eq"
   ]
  },
  {
   "cell_type": "code",
   "execution_count": 66,
   "metadata": {
    "collapsed": false
   },
   "outputs": [],
   "source": [
    "class Add(SymbolObjects):\n",
    "    def __init__(self,*symbols):\n",
    "        if len(symbols) < 2:\n",
    "            raise Exception(\"Too few arugments\")\n",
    "        \n",
    "        symbols = list(symbols)\n",
    "        \n",
    "        temp = []\n",
    "        for s in symbols:\n",
    "            s = symbolize(s)\n",
    "            if isinstance(s,Add):\n",
    "                temp += s.symbols\n",
    "            else:\n",
    "                temp.append(s)\n",
    "        \n",
    "        self.symbols = []\n",
    "        n=0\n",
    "        for s in temp:\n",
    "            if isinstance(s,Symbol) and s.type == \"int\":\n",
    "                n += s.value\n",
    "            else:\n",
    "                self.symbols.append(s)\n",
    "        self.symbols = [Symbol(n)]+sorted(self.symbols, key=lambda s: str(s))\n",
    "        \n",
    "    def __repr__(self):\n",
    "        return self.__str__()\n",
    "    \n",
    "    def __str__(self):\n",
    "        ret = str(self.symbols[0])\n",
    "        \n",
    "        for s in self.symbols[1:]:\n",
    "            ret = \"%s+%s\" % (ret,str(s))\n",
    "        \n",
    "        return \"(\" + ret + \")\"\n",
    "    \n",
    "    def derivative(self,dx):\n",
    "        ret = \"\"\n",
    "        d_symbols = [s.derivative(dx) for s in self.symbols]\n",
    "        return Add(*d_symbols)\n",
    "    \n",
    "    def simplify(self):\n",
    "        # simplify all leaf element\n",
    "        symbols = [ s.simplify() for s in self.symbols ]\n",
    "        \n",
    "        # exclude 0\n",
    "        symbols = [ s for s in symbols if not s == 0]\n",
    "        \n",
    "        n = len(symbols)\n",
    "        if n==0:\n",
    "            return Symbol(0)\n",
    "        elif n==1:\n",
    "            return symbols[0]\n",
    "        else:\n",
    "            return Add(*symbols)"
   ]
  },
  {
   "cell_type": "code",
   "execution_count": 74,
   "metadata": {
    "collapsed": true
   },
   "outputs": [],
   "source": [
    "class Mult(SymbolObjects):\n",
    "    def __init__(self,*symbols):\n",
    "        if len(symbols) < 2:\n",
    "            raise Exception(\"Too few arugments\")\n",
    "        \n",
    "        symbols = list(symbols)\n",
    "        temp = []\n",
    "        for s in symbols:\n",
    "            s = symbolize(s)\n",
    "            if isinstance(s,Mult):\n",
    "                temp += s.symbols\n",
    "            else:\n",
    "                temp.append(s)\n",
    "        \n",
    "        self.symbols = []\n",
    "        n=1\n",
    "        for s in temp:\n",
    "            if isinstance(s,Symbol) and s.type == \"int\":\n",
    "                n *= s.value\n",
    "            else:\n",
    "                self.symbols.append(s)\n",
    "        self.symbols = [Symbol(n)]+sorted(self.symbols, key=lambda s: str(s))\n",
    "        \n",
    "    def __repr__(self):\n",
    "        return self.__str__()\n",
    "    \n",
    "    def __str__(self):\n",
    "        ret = str(self.symbols[0])\n",
    "        \n",
    "        for s in self.symbols[1:]:\n",
    "            ret = \"%s*%s\" % (ret,str(s))\n",
    "        \n",
    "        return ret\n",
    "    \n",
    "    def derivative(self,dx):\n",
    "        diffs = []\n",
    "        d_symbols = [s.derivative(dx) for s in self.symbols]\n",
    "        \n",
    "        for i in range(len(self.symbols)):\n",
    "            rest = self.symbols[:i]+self.symbols[i+1:]\n",
    "            # (abc)'=a'bc+ab'c+abc'\n",
    "            diffs.append(Mult(d_symbols[i],*rest))\n",
    "            \n",
    "        return Add(*diffs)\n",
    "    \n",
    "    def simplify(self):\n",
    "        # simplify all leaf element\n",
    "        symbols = [ s.simplify() for s in self.symbols ]\n",
    "        \n",
    "        # search 0 \n",
    "        n = len([s for s in symbols if s == 0])\n",
    "        if n != 0:\n",
    "            return Symbol(0)\n",
    "        \n",
    "        # exclude 1\n",
    "        symbols = [ s for s in symbols if not s == 1]\n",
    "        \n",
    "        n = len(symbols)\n",
    "        if n==0:\n",
    "            return Symbol(1)\n",
    "        elif n==1:\n",
    "            return symbols[0]\n",
    "        else:\n",
    "            return Mult(*symbols)"
   ]
  },
  {
   "cell_type": "code",
   "execution_count": null,
   "metadata": {
    "collapsed": true
   },
   "outputs": [],
   "source": []
  },
  {
   "cell_type": "code",
   "execution_count": 75,
   "metadata": {
    "collapsed": true
   },
   "outputs": [],
   "source": [
    "class Cos(SymbolObjects):\n",
    "    def __init__(self,symbol):\n",
    "        \n",
    "        self.symbol = symbolize(symbol)\n",
    "        \n",
    "    def __repr__(self):\n",
    "        return self.__str__()\n",
    "    \n",
    "    def __str__(self):\n",
    "        return \"cos(%s)\" % str(self.symbol)\n",
    "    \n",
    "    def derivative(self,dx):\n",
    "        diff = self.symbol.derivative(dx)\n",
    "        \n",
    "        return Mult(-1,Sin(self.symbol),diff)\n",
    "    \n",
    "    def simplify(self):\n",
    "        symbol = self.symbol.simplify()\n",
    "        \n",
    "        if symbol == 0:\n",
    "            return Symbol(1)\n",
    "        else:\n",
    "            return Cos(symbol)"
   ]
  },
  {
   "cell_type": "code",
   "execution_count": 76,
   "metadata": {
    "collapsed": true
   },
   "outputs": [],
   "source": [
    "class Sin(SymbolObjects):\n",
    "    def __init__(self,symbol):\n",
    "        \n",
    "        self.symbol = symbolize(symbol)\n",
    "        \n",
    "    def __repr__(self):\n",
    "        return self.__str__()\n",
    "    \n",
    "    def __str__(self):\n",
    "        return \"sin(%s)\" % str(self.symbol)\n",
    "    \n",
    "    def derivative(self,dx):\n",
    "        diff = self.symbol.derivative(dx)\n",
    "        \n",
    "        return Mult(Cos(self.symbol),diff)\n",
    "    \n",
    "    def simplify(self):\n",
    "        symbol = self.symbol.simplify()\n",
    "        \n",
    "        if symbol == 0:\n",
    "            return Symbol(0)\n",
    "        else:\n",
    "            return Sin(symbol)"
   ]
  },
  {
   "cell_type": "code",
   "execution_count": 77,
   "metadata": {
    "collapsed": true
   },
   "outputs": [],
   "source": [
    "class Exp(SymbolObjects):\n",
    "    def __init__(self,symbol):\n",
    "        \n",
    "        self.symbol = symbolize(symbol)\n",
    "        \n",
    "    def __repr__(self):\n",
    "        return self.__str__()\n",
    "    \n",
    "    def __str__(self):\n",
    "        return \"exp(%s)\" % str(self.symbol)\n",
    "    \n",
    "    def derivative(self,dx):\n",
    "        diff = self.symbol.derivative(dx)\n",
    "        \n",
    "        return Mult(Exp(self.symbol),diff)\n",
    "    \n",
    "    def simplify(self):\n",
    "        symbol = self.symbol.simplify()\n",
    "        \n",
    "        if symbol == 0:\n",
    "            return Symbol(1)\n",
    "        else:\n",
    "            return Exp(symbol)"
   ]
  },
  {
   "cell_type": "code",
   "execution_count": 78,
   "metadata": {
    "collapsed": false
   },
   "outputs": [
    {
     "data": {
      "text/plain": [
       "[[1, 1], [y, x], [(0+1*x*x+1*x*x+1*x*x), (0+y+y)]]"
      ]
     },
     "execution_count": 78,
     "metadata": {},
     "output_type": "execute_result"
    }
   ],
   "source": [
    "def get_jacobi(fs,xs):\n",
    "    ret = []\n",
    "\n",
    "    for f in fs:\n",
    "        temp = []\n",
    "        for x in xs:\n",
    "            df = f.derivative(x)\n",
    "            df = simplify(df)\n",
    "            temp.append(df)\n",
    "        ret.append(temp)\n",
    "    return ret\n",
    "\n",
    "x,y,z = symbols(\"x y z\")\n",
    "get_jacobi([x+y,x*y,x*x*x+y*y],[x,y])"
   ]
  },
  {
   "cell_type": "code",
   "execution_count": null,
   "metadata": {
    "collapsed": true
   },
   "outputs": [],
   "source": []
  },
  {
   "cell_type": "code",
   "execution_count": 79,
   "metadata": {
    "collapsed": false
   },
   "outputs": [
    {
     "data": {
      "text/plain": [
       "(0+1*cos(x)*sin(y)+exp(x)+sin(x)+x)"
      ]
     },
     "execution_count": 79,
     "metadata": {},
     "output_type": "execute_result"
    }
   ],
   "source": [
    "x,y,z = symbols(\"x y z\")\n",
    "y = Cos(x)*Sin(y)+Sin(x)+x+Exp(x)\n",
    "y"
   ]
  },
  {
   "cell_type": "code",
   "execution_count": 80,
   "metadata": {
    "collapsed": false
   },
   "outputs": [
    {
     "data": {
      "text/plain": [
       "(1+-1*sin(x)*sin(y)+cos(x)+exp(x))"
      ]
     },
     "execution_count": 80,
     "metadata": {},
     "output_type": "execute_result"
    }
   ],
   "source": [
    "simplify(y.derivative(x))"
   ]
  },
  {
   "cell_type": "code",
   "execution_count": 81,
   "metadata": {
    "collapsed": false
   },
   "outputs": [],
   "source": [
    "dy = y.derivative(x)"
   ]
  },
  {
   "cell_type": "code",
   "execution_count": 82,
   "metadata": {
    "collapsed": false
   },
   "outputs": [
    {
     "data": {
      "text/plain": [
       "(1+-1*sin(x)*sin(y)+0*cos(x)*cos(y)+0*cos(x)*sin(y)+1*cos(x)+1*exp(x))"
      ]
     },
     "execution_count": 82,
     "metadata": {},
     "output_type": "execute_result"
    }
   ],
   "source": [
    "dy"
   ]
  },
  {
   "cell_type": "code",
   "execution_count": 83,
   "metadata": {
    "collapsed": false
   },
   "outputs": [
    {
     "data": {
      "text/plain": [
       "(1+-1*sin(x)*sin(y)+cos(x)+exp(x))"
      ]
     },
     "execution_count": 83,
     "metadata": {},
     "output_type": "execute_result"
    }
   ],
   "source": [
    "dy.simplify()"
   ]
  },
  {
   "cell_type": "code",
   "execution_count": 84,
   "metadata": {
    "collapsed": false
   },
   "outputs": [
    {
     "data": {
      "text/plain": [
       "125*(0+x+y)*y*z"
      ]
     },
     "execution_count": 84,
     "metadata": {},
     "output_type": "execute_result"
    }
   ],
   "source": [
    "x,y,z = symbols(\"x y z\")\n",
    "(x+y)*z*y*5*5*5"
   ]
  },
  {
   "cell_type": "code",
   "execution_count": null,
   "metadata": {
    "collapsed": false
   },
   "outputs": [],
   "source": [
    "Symbol(0)==0"
   ]
  },
  {
   "cell_type": "code",
   "execution_count": null,
   "metadata": {
    "collapsed": true
   },
   "outputs": [],
   "source": []
  },
  {
   "cell_type": "code",
   "execution_count": null,
   "metadata": {
    "collapsed": true
   },
   "outputs": [],
   "source": [
    "a = Mult(1,0)"
   ]
  },
  {
   "cell_type": "code",
   "execution_count": null,
   "metadata": {
    "collapsed": false
   },
   "outputs": [],
   "source": [
    "a.simplify()"
   ]
  },
  {
   "cell_type": "code",
   "execution_count": null,
   "metadata": {
    "collapsed": false
   },
   "outputs": [],
   "source": [
    "simplify(Mult(Cos(x),0,Sin(x)))"
   ]
  },
  {
   "cell_type": "code",
   "execution_count": null,
   "metadata": {
    "collapsed": true
   },
   "outputs": [],
   "source": []
  },
  {
   "cell_type": "code",
   "execution_count": null,
   "metadata": {
    "collapsed": true
   },
   "outputs": [],
   "source": []
  }
 ],
 "metadata": {
  "kernelspec": {
   "display_name": "Python 2",
   "language": "python",
   "name": "python2"
  },
  "language_info": {
   "codemirror_mode": {
    "name": "ipython",
    "version": 2
   },
   "file_extension": ".py",
   "mimetype": "text/x-python",
   "name": "python",
   "nbconvert_exporter": "python",
   "pygments_lexer": "ipython2",
   "version": "2.7.11"
  }
 },
 "nbformat": 4,
 "nbformat_minor": 2
}
