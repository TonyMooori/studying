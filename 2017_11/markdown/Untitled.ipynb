{
 "cells": [
  {
   "cell_type": "code",
   "execution_count": 43,
   "metadata": {
    "collapsed": true
   },
   "outputs": [],
   "source": [
    "import codecs"
   ]
  },
  {
   "cell_type": "markdown",
   "metadata": {},
   "source": [
    "https://blog.tiqwab.com/2016/12/22/md-parser.html"
   ]
  },
  {
   "cell_type": "code",
   "execution_count": 12,
   "metadata": {
    "collapsed": true
   },
   "outputs": [],
   "source": [
    "samplemd=u\"\"\"\n",
    "# 概要\n",
    "これはサンプルマークダウンテキストです．\n",
    "\n",
    "## サブセクション\n",
    "サブセクションです．$E=mc^2$はDr.Stoneでよく見かけます．\n",
    "\n",
    "$$\n",
    "x = \\\\frac{1}{2}\n",
    "$$\n",
    "\n",
    "## 猫です\n",
    "猫じゃないです．[リンク](https:://google.com/)を貼ってみました．\n",
    "\n",
    "## 山です\n",
    "海です．\n",
    "\n",
    "![画像のキャプション](1.png)\n",
    "\"\"\""
   ]
  },
  {
   "cell_type": "code",
   "execution_count": 46,
   "metadata": {
    "collapsed": false
   },
   "outputs": [
    {
     "name": "stdout",
     "output_type": "stream",
     "text": [
      "図1に示した回路の伝達関数を導出する．\r\n",
      "\r\n",
      "オペアンプのマイナス端子をバーチャルショートした上で立式すると次のようになる．なお$i_1$，$i_2$はそれぞれオペアンプと並列に接続された抵抗，コンデンサに流れる電流とする．\r\n",
      "\r\n",
      "$$\r\n",
      "\\begin{alignat}{1}\r\n",
      "v_{in}&=R(i_1+i_2)\\\\\r\n",
      "v_{out}&=-Ri_1 \\\\\r\n",
      "v_{out}&=-\\frac{1}{C}\\int i_2 dt\r\n",
      "\\end{alignat}\r\n",
      "$$\r\n",
      "\r\n",
      "ここでラプラス変換をすると次のようになる．\r\n",
      "\r\n",
      "$$\r\n",
      "\\begin{alignat}{1}\r\n",
      "V_{in}(s)&=R(I_1(s)+I_2(s))\\\\\r\n",
      "I_1(s)&=-\\frac{1}{R}V_{out}(s) \\\\\r\n",
      "I_2(s)&=-sCV_{out}(s)\r\n",
      "\\end{alignat}\r\n",
      "$$\r\n",
      "\r\n",
      "これを整理すると，伝達関数がもとまる．\r\n",
      "$$\r\n",
      "\\begin{alignat}{1}\r\n",
      "V_{in}(s)&=R(I_1(s)+I_2(s))\\\\\r\n",
      "&=-(1+sCR)V_{out}(s) \\\\\r\n",
      "\\therefore　G(s)= \\frac{V_{out}(s)}{V_{in}(s)}&=-\\frac{1}{1+sCR}\r\n",
      "\\end{alignat}\r\n",
      "$$\r\n",
      "\r\n",
      "\r\n",
      "## コンデンサ容量によるゲイン特性の変化\r\n",
      "次に，コンデンサ容量を増加した場合，伝達関数のゲイン特性はどのように変化するかについて議論する．．\r\n",
      "\r\n",
      "\r\n",
      "$s=j\\omega$として周波数伝達関数$G(j\\omega)$を考えると，ゲインは次のようになる．\r\n",
      "\r\n",
      "$$\r\n",
      "\\begin{alignat}{1}\r\n",
      "|G(s)| &=\\left|\\frac{1}{1+j\\omega CR}\\right|\\\\\r\n",
      "&=\\frac{1}{\\sqrt{1+\\omega^2C^2R^2}}\r\n",
      "\\end{alignat}\r\n",
      "$$\r\n",
      "\r\n",
      "したがってコンデンサ容量が大きくなるとゲインは小さくなる傾向があることが読み取れる．\r\n",
      "\r\n",
      "## 入力電圧としてサイン波を入力した場合における出力の変化\r\n",
      "\r\n",
      "\r\n",
      "\r\n",
      "\n",
      "****************************************************************************************************\n",
      "図1に示した回路の伝達関数を導出する．\r\n",
      "\r\n",
      "オペアンプのマイナス端子をバーチャルショートした上で立式すると次のようになる．なおi_1\\(i_1\\)i_2\\(i_2\\)それぞれオペアンプと並列に接続された抵抗，コンデンサに流れる電流とする．\r\n",
      "\r\n",
      "\\begin{equation}\r\n",
      "\\begin{alignat}{1}\r\n",
      "v_{in}&=R(i_1+i_2)\\\\\r\n",
      "v_{out}&=-Ri_1 \\\\\r\n",
      "v_{out}&=-\\frac{1}{C}\\int i_2 dt\r\n",
      "\\end{alignat}\r\n",
      "\\end{equation}\r\n",
      "\r\n",
      "ここでラプラス変換をすると次のようになる．\r\n",
      "\r\n",
      "\\begin{equation}\r\n",
      "\\begin{alignat}{1}\r\n",
      "V_{in}(s)&=R(I_1(s)+I_2(s))\\\\\r\n",
      "I_1(s)&=-\\frac{1}{R}V_{out}(s) \\\\\r\n",
      "I_2(s)&=-sCV_{out}(s)\r\n",
      "\\end{alignat}\r\n",
      "\\end{equation}\r\n",
      "\r\n",
      "これを整理すると，伝達関数がもとまる．\r\n",
      "\\begin{equation}\r\n",
      "\\begin{alignat}{1}\r\n",
      "V_{in}(s)&=R(I_1(s)+I_2(s))\\\\\r\n",
      "&=-(1+sCR)V_{out}(s) \\\\\r\n",
      "\\therefore　G(s)= \\frac{V_{out}(s)}{V_{in}(s)}&=-\\frac{1}{1+sCR}\r\n",
      "\\end{alignat}\r\n",
      "\\end{equation}\r\n",
      "\r\n",
      "\r\n",
      "## コンデンサ容量によるゲイン特性の変化\r\n",
      "次に，コンデンサ容量を増加した場合，伝達関数のゲイン特性はどのように変化するかについて議論する．．\r\n",
      "\r\n",
      "\r\n",
      "s=j\\omega\\(s=j\\omega\\)して周波数伝達関数G(j\\omega)\\(G(j\\omega)\\)考えると，ゲインは次のようになる．\r\n",
      "\r\n",
      "\\begin{equation}\r\n",
      "\\begin{alignat}{1}\r\n",
      "|G(s)| &=\\left|\\frac{1}{1+j\\omega CR}\\right|\\\\\r\n",
      "&=\\frac{1}{\\sqrt{1+\\omega^2C^2R^2}}\r\n",
      "\\end{alignat}\r\n",
      "\\end{equation}\r\n",
      "\r\n",
      "したがってコンデンサ容量が大きくなるとゲインは小さくなる傾向があることが読み取れる．\r\n",
      "\r\n",
      "## 入力電圧としてサイン波を入力した場合における出力の変化\r\n",
      "\r\n",
      "\r\n",
      "\r\n",
      "\n"
     ]
    }
   ],
   "source": [
    "class Converter:\n",
    "    def __init__(self):\n",
    "        pass\n",
    "    \n",
    "    def fetch_char(self,text,n=1):\n",
    "        if len(text) < n:\n",
    "            return text\n",
    "        else:\n",
    "            return text[:n]\n",
    "    \n",
    "    def parseLatexBlock(self,text):\n",
    "        #print(\"called parseLatexBlock\")\n",
    "        ret = \"\"\n",
    "        i = 2\n",
    "        \n",
    "        if text[:2] != '$$':\n",
    "            return ret,0\n",
    "        \n",
    "        while i < len(text):\n",
    "            c = text[i]\n",
    "            next_c = self.fetch_char(text[i+1:])\n",
    "            if c == '$' and next_c == '$':\n",
    "                break\n",
    "            else:\n",
    "                ret += c\n",
    "                \n",
    "            i+=1\n",
    "        \n",
    "        ret = \"\\\\begin{equation}\" + ret + \"\\\\end{equation}\"\n",
    "        \n",
    "        return  ret,i+1\n",
    "    \n",
    "    def parseLatexInline(self,text):\n",
    "        ret = \"\"\n",
    "        i = 1\n",
    "        #print(\"called parseLatexInline\")\n",
    "        if text[:1] != '$':\n",
    "            return ret,0\n",
    "        \n",
    "        while i < len(text):\n",
    "            c = text[i]\n",
    "            if c == '$':\n",
    "                break\n",
    "            else:\n",
    "                ret += c\n",
    "            i+=1\n",
    "        \n",
    "        ret += \"\\\\(\" + ret + \"\\\\)\"\n",
    "        \n",
    "        return  ret,i+1\n",
    "    \n",
    "    def parseLine(self,text):\n",
    "        ret = \"\"\n",
    "        i = 0\n",
    "        \n",
    "        while i < len(text):\n",
    "            c = text[i]\n",
    "            next_c = self.fetch_char(text[i+1:])\n",
    "            #print(c)\n",
    "            if c == '$' and next_c == '$':\n",
    "                t,n = self.parseLatexBlock(text[i:])\n",
    "                ret += t\n",
    "                i += n\n",
    "            elif c == '$':\n",
    "                t,n = self.parseLatexInline(text[i:])\n",
    "                ret += t\n",
    "                i += n\n",
    "            else:\n",
    "                ret += c\n",
    "            \n",
    "            i+=1\n",
    "        \n",
    "        return ret\n",
    "                \n",
    "                \n",
    "    \n",
    "    def convert(self,text):\n",
    "        return self.parseLine(text)\n",
    "    \n",
    "test()"
   ]
  },
  {
   "cell_type": "code",
   "execution_count": 44,
   "metadata": {
    "collapsed": false
   },
   "outputs": [],
   "source": [
    "\n",
    "def read_file(filepath = \"sample.md\"):\n",
    "    with codecs.open(filepath, 'r', 'utf-8') as f:\n",
    "        lines = f.readlines()\n",
    "    return \"\".join(lines)\n",
    "\n",
    "def test():\n",
    "    samplemd = read_file()\n",
    "    print(samplemd)\n",
    "    print(\"*\"*100)\n",
    "    c = Converter()\n",
    "    print(c.convert(samplemd))"
   ]
  },
  {
   "cell_type": "code",
   "execution_count": 45,
   "metadata": {
    "collapsed": false
   },
   "outputs": [
    {
     "data": {
      "text/plain": [
       "u'\\u56f31\\u306b\\u793a\\u3057\\u305f\\u56de\\u8def\\u306e\\u4f1d\\u9054\\u95a2\\u6570\\u3092\\u5c0e\\u51fa\\u3059\\u308b\\uff0e\\r\\n\\r\\n\\u30aa\\u30da\\u30a2\\u30f3\\u30d7\\u306e\\u30de\\u30a4\\u30ca\\u30b9\\u7aef\\u5b50\\u3092\\u30d0\\u30fc\\u30c1\\u30e3\\u30eb\\u30b7\\u30e7\\u30fc\\u30c8\\u3057\\u305f\\u4e0a\\u3067\\u7acb\\u5f0f\\u3059\\u308b\\u3068\\u6b21\\u306e\\u3088\\u3046\\u306b\\u306a\\u308b\\uff0e\\u306a\\u304a$i_1$\\uff0c$i_2$\\u306f\\u305d\\u308c\\u305e\\u308c\\u30aa\\u30da\\u30a2\\u30f3\\u30d7\\u3068\\u4e26\\u5217\\u306b\\u63a5\\u7d9a\\u3055\\u308c\\u305f\\u62b5\\u6297\\uff0c\\u30b3\\u30f3\\u30c7\\u30f3\\u30b5\\u306b\\u6d41\\u308c\\u308b\\u96fb\\u6d41\\u3068\\u3059\\u308b\\uff0e\\r\\n\\r\\n$$\\r\\n\\\\begin{alignat}{1}\\r\\nv_{in}&=R(i_1+i_2)\\\\\\\\\\r\\nv_{out}&=-Ri_1 \\\\\\\\\\r\\nv_{out}&=-\\\\frac{1}{C}\\\\int i_2 dt\\r\\n\\\\end{alignat}\\r\\n$$\\r\\n\\r\\n\\u3053\\u3053\\u3067\\u30e9\\u30d7\\u30e9\\u30b9\\u5909\\u63db\\u3092\\u3059\\u308b\\u3068\\u6b21\\u306e\\u3088\\u3046\\u306b\\u306a\\u308b\\uff0e\\r\\n\\r\\n$$\\r\\n\\\\begin{alignat}{1}\\r\\nV_{in}(s)&=R(I_1(s)+I_2(s))\\\\\\\\\\r\\nI_1(s)&=-\\\\frac{1}{R}V_{out}(s) \\\\\\\\\\r\\nI_2(s)&=-sCV_{out}(s)\\r\\n\\\\end{alignat}\\r\\n$$\\r\\n\\r\\n\\u3053\\u308c\\u3092\\u6574\\u7406\\u3059\\u308b\\u3068\\uff0c\\u4f1d\\u9054\\u95a2\\u6570\\u304c\\u3082\\u3068\\u307e\\u308b\\uff0e\\r\\n$$\\r\\n\\\\begin{alignat}{1}\\r\\nV_{in}(s)&=R(I_1(s)+I_2(s))\\\\\\\\\\r\\n&=-(1+sCR)V_{out}(s) \\\\\\\\\\r\\n\\\\therefore\\u3000G(s)= \\\\frac{V_{out}(s)}{V_{in}(s)}&=-\\\\frac{1}{1+sCR}\\r\\n\\\\end{alignat}\\r\\n$$\\r\\n\\r\\n\\r\\n## \\u30b3\\u30f3\\u30c7\\u30f3\\u30b5\\u5bb9\\u91cf\\u306b\\u3088\\u308b\\u30b2\\u30a4\\u30f3\\u7279\\u6027\\u306e\\u5909\\u5316\\r\\n\\u6b21\\u306b\\uff0c\\u30b3\\u30f3\\u30c7\\u30f3\\u30b5\\u5bb9\\u91cf\\u3092\\u5897\\u52a0\\u3057\\u305f\\u5834\\u5408\\uff0c\\u4f1d\\u9054\\u95a2\\u6570\\u306e\\u30b2\\u30a4\\u30f3\\u7279\\u6027\\u306f\\u3069\\u306e\\u3088\\u3046\\u306b\\u5909\\u5316\\u3059\\u308b\\u304b\\u306b\\u3064\\u3044\\u3066\\u8b70\\u8ad6\\u3059\\u308b\\uff0e\\uff0e\\r\\n\\r\\n\\r\\n$s=j\\\\omega$\\u3068\\u3057\\u3066\\u5468\\u6ce2\\u6570\\u4f1d\\u9054\\u95a2\\u6570$G(j\\\\omega)$\\u3092\\u8003\\u3048\\u308b\\u3068\\uff0c\\u30b2\\u30a4\\u30f3\\u306f\\u6b21\\u306e\\u3088\\u3046\\u306b\\u306a\\u308b\\uff0e\\r\\n\\r\\n$$\\r\\n\\\\begin{alignat}{1}\\r\\n|G(s)| &=\\\\left|\\\\frac{1}{1+j\\\\omega CR}\\\\right|\\\\\\\\\\r\\n&=\\\\frac{1}{\\\\sqrt{1+\\\\omega^2C^2R^2}}\\r\\n\\\\end{alignat}\\r\\n$$\\r\\n\\r\\n\\u3057\\u305f\\u304c\\u3063\\u3066\\u30b3\\u30f3\\u30c7\\u30f3\\u30b5\\u5bb9\\u91cf\\u304c\\u5927\\u304d\\u304f\\u306a\\u308b\\u3068\\u30b2\\u30a4\\u30f3\\u306f\\u5c0f\\u3055\\u304f\\u306a\\u308b\\u50be\\u5411\\u304c\\u3042\\u308b\\u3053\\u3068\\u304c\\u8aad\\u307f\\u53d6\\u308c\\u308b\\uff0e\\r\\n\\r\\n## \\u5165\\u529b\\u96fb\\u5727\\u3068\\u3057\\u3066\\u30b5\\u30a4\\u30f3\\u6ce2\\u3092\\u5165\\u529b\\u3057\\u305f\\u5834\\u5408\\u306b\\u304a\\u3051\\u308b\\u51fa\\u529b\\u306e\\u5909\\u5316\\r\\n\\r\\n\\r\\n\\r\\n'"
      ]
     },
     "execution_count": 45,
     "metadata": {},
     "output_type": "execute_result"
    }
   ],
   "source": [
    "read_file()"
   ]
  },
  {
   "cell_type": "code",
   "execution_count": null,
   "metadata": {
    "collapsed": true
   },
   "outputs": [],
   "source": []
  }
 ],
 "metadata": {
  "kernelspec": {
   "display_name": "Python 2",
   "language": "python",
   "name": "python2"
  },
  "language_info": {
   "codemirror_mode": {
    "name": "ipython",
    "version": 2
   },
   "file_extension": ".py",
   "mimetype": "text/x-python",
   "name": "python",
   "nbconvert_exporter": "python",
   "pygments_lexer": "ipython2",
   "version": "2.7.11"
  }
 },
 "nbformat": 4,
 "nbformat_minor": 0
}
