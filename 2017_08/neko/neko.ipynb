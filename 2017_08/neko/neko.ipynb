{
 "cells": [
  {
   "cell_type": "code",
   "execution_count": 1,
   "metadata": {
    "collapsed": false
   },
   "outputs": [
    {
     "name": "stdout",
     "output_type": "stream",
     "text": [
      "n\n",
      "e\n",
      "r\n",
      "u\n"
     ]
    }
   ],
   "source": [
    "x=\"\"\"にゃーんにゃーんにゃにゃーんにゃーんにゃーんにゃ\n",
    "にゃーんにゃーんにゃにゃにゃーんにゃにゃーん\n",
    "にゃーんにゃーんにゃーんにゃにゃにゃーんにゃ\n",
    "にゃーんにゃーんにゃーんにゃにゃーんにゃにゃーん\"\"\"\n",
    "for s in x.split(\"\\n\"):\n",
    "    s = s.replace(\"にゃーん\",\"1\")\n",
    "    s = s.replace(\"にゃ\",\"0\")\n",
    "    #print s\n",
    "    print chr(int(s,2))\n"
   ]
  },
  {
   "cell_type": "code",
   "execution_count": 2,
   "metadata": {
    "collapsed": false
   },
   "outputs": [
    {
     "name": "stdout",
     "output_type": "stream",
     "text": [
      "にゃーんにゃーんにゃにゃーんにゃーんにゃーんにゃ\n",
      "にゃーんにゃーんにゃにゃにゃーんにゃにゃーん\n",
      "にゃーんにゃーんにゃーんにゃにゃにゃーんにゃ\n",
      "にゃーんにゃーんにゃーんにゃにゃーんにゃにゃーん\n"
     ]
    }
   ],
   "source": [
    "for c in \"neru\":\n",
    "    s = bin(ord(c))[2:]\n",
    "    s = s.replace(\"0\",\"にゃ\")\n",
    "    s = s.replace(\"1\",\"にゃーん\")\n",
    "    print s\n",
    "    \n"
   ]
  },
  {
   "cell_type": "code",
   "execution_count": null,
   "metadata": {
    "collapsed": true
   },
   "outputs": [],
   "source": []
  }
 ],
 "metadata": {
  "kernelspec": {
   "display_name": "Python 2",
   "language": "python",
   "name": "python2"
  },
  "language_info": {
   "codemirror_mode": {
    "name": "ipython",
    "version": 2
   },
   "file_extension": ".py",
   "mimetype": "text/x-python",
   "name": "python",
   "nbconvert_exporter": "python",
   "pygments_lexer": "ipython2",
   "version": "2.7.11"
  }
 },
 "nbformat": 4,
 "nbformat_minor": 0
}
