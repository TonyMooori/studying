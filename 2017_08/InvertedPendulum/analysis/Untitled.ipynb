{
 "cells": [
  {
   "cell_type": "code",
   "execution_count": 2,
   "metadata": {
    "collapsed": false
   },
   "outputs": [],
   "source": [
    "import numpy as np\n",
    "from control import matlab"
   ]
  },
  {
   "cell_type": "code",
   "execution_count": 3,
   "metadata": {
    "collapsed": false
   },
   "outputs": [],
   "source": [
    "M = 5;\n",
    "m = 0.5;\n",
    "l = 3.0;\n",
    "J = m*l*l/3.0;\n",
    "B_dump = 5.0;\n",
    "C_dump = 0.2;\n",
    "g = 9.8;"
   ]
  },
  {
   "cell_type": "code",
   "execution_count": 4,
   "metadata": {
    "collapsed": false
   },
   "outputs": [],
   "source": [
    "T = np.array([M+m,m*l,m*l,J+m*l*l]).reshape(2,2)\n",
    "\n",
    "A=np.array([\n",
    "        0,np.linalg.det(T),0,0,\n",
    "        0,-B_dump*(J+m*l*l),-m*m*l*l*g,C_dump*m*l,\n",
    "        0,0,0,np.linalg.det(T),\n",
    "        0,B_dump*l*m,m*g*l*(M+m),-C_dump*(M+m)]).reshape(4,4)\n",
    "A=A/np.linalg.det(T)\n",
    "\n",
    "B=np.array([0,J+m*l*l,0,-m*l]).reshape(4,1)\n",
    "B/=np.linalg.det(T)\n",
    "\n",
    "C=np.array([[1,0,0,0],[0,0,1,0]])"
   ]
  },
  {
   "cell_type": "code",
   "execution_count": 18,
   "metadata": {
    "collapsed": false
   },
   "outputs": [
    {
     "data": {
      "text/plain": [
       "array([[ 0.        ,  1.        ,  0.        ,  0.        ],\n",
       "       [ 0.        , -0.97560976, -0.71707317,  0.0097561 ],\n",
       "       [ 0.        ,  0.        ,  0.        ,  1.        ],\n",
       "       [ 0.        ,  0.24390244,  2.62926829, -0.03577236]])"
      ]
     },
     "execution_count": 18,
     "metadata": {},
     "output_type": "execute_result"
    }
   ],
   "source": [
    "A"
   ]
  },
  {
   "cell_type": "code",
   "execution_count": 27,
   "metadata": {
    "collapsed": false
   },
   "outputs": [
    {
     "name": "stdout",
     "output_type": "stream",
     "text": [
      "('K =', array([[   0.25795368,    7.08877443,  111.92378883,   69.38212657]]))\n",
      "('e =', array([-1.71270059, -0.6       , -0.4       , -0.3       ]))\n"
     ]
    }
   ],
   "source": [
    "poles =  [-0.5, -0.3,-0.4,-0.6]\n",
    "\n",
    "K = -matlab.place(A, B, poles)\n",
    "\n",
    "e = np.linalg.eigvals(A+B.dot(K))\n",
    "\n",
    "print(\"K =\", K)\n",
    "print(\"e =\", e)"
   ]
  },
  {
   "cell_type": "code",
   "execution_count": 19,
   "metadata": {
    "collapsed": false
   },
   "outputs": [
    {
     "name": "stdout",
     "output_type": "stream",
     "text": [
      "('G =', array([[  9.7398596 ,   0.30567864],\n",
      "       [ 19.2229346 ,   0.30081657],\n",
      "       [  0.30567864,   8.96145888],\n",
      "       [  6.87245941,  15.09833317]]))\n",
      "('e =', array([-7.        , -6.        , -5.        , -1.71270059]))\n"
     ]
    }
   ],
   "source": [
    "poles = [-5, -6,-7,-8]\n",
    "\n",
    "\n",
    "G = matlab.place(A.T, C.T, poles).T\n",
    "\n",
    "e = np.linalg.eigvals(A-G.dot(C))\n",
    "\n",
    "print(\"G =\", G)\n",
    "print(\"e =\", e)\n"
   ]
  },
  {
   "cell_type": "code",
   "execution_count": 7,
   "metadata": {
    "collapsed": false
   },
   "outputs": [
    {
     "data": {
      "text/plain": [
       "array([[ -2.86615202e-02,  -5.51870125e+00,  -8.15310598e+01,\n",
       "         -5.08018339e+01]])"
      ]
     },
     "execution_count": 7,
     "metadata": {},
     "output_type": "execute_result"
    }
   ],
   "source": [
    "K"
   ]
  },
  {
   "cell_type": "code",
   "execution_count": 8,
   "metadata": {
    "collapsed": false
   },
   "outputs": [
    {
     "data": {
      "text/plain": [
       "array([[ 4.07806591, -0.16641489],\n",
       "       [ 2.29836475, -1.25412893],\n",
       "       [-0.16641489,  5.62325257],\n",
       "       [ 0.48199744,  8.99664789]])"
      ]
     },
     "execution_count": 8,
     "metadata": {},
     "output_type": "execute_result"
    }
   ],
   "source": [
    "G"
   ]
  },
  {
   "cell_type": "code",
   "execution_count": 26,
   "metadata": {
    "collapsed": false
   },
   "outputs": [
    {
     "data": {
      "text/plain": [
       "4"
      ]
     },
     "execution_count": 26,
     "metadata": {},
     "output_type": "execute_result"
    }
   ],
   "source": [
    "np.linalg.matrix_rank(np.array([C,C.dot(A),C.dot(A.dot(A)),C.dot(A.dot(A.dot(A)))]).reshape(8,4))"
   ]
  },
  {
   "cell_type": "code",
   "execution_count": 21,
   "metadata": {
    "collapsed": false
   },
   "outputs": [
    {
     "data": {
      "text/plain": [
       "array([[ 0.,  1.,  0.,  0.],\n",
       "       [ 0.,  0.,  0.,  1.]])"
      ]
     },
     "execution_count": 21,
     "metadata": {},
     "output_type": "execute_result"
    }
   ],
   "source": [
    "C.dot(A)"
   ]
  },
  {
   "cell_type": "code",
   "execution_count": 22,
   "metadata": {
    "collapsed": false
   },
   "outputs": [
    {
     "data": {
      "text/plain": [
       "array([[ 0.        , -0.97560976, -0.71707317,  0.0097561 ],\n",
       "       [ 0.        ,  0.24390244,  2.62926829, -0.03577236]])"
      ]
     },
     "execution_count": 22,
     "metadata": {},
     "output_type": "execute_result"
    }
   ],
   "source": [
    "C.dot(A.dot(A))"
   ]
  },
  {
   "cell_type": "code",
   "execution_count": 24,
   "metadata": {
    "collapsed": false
   },
   "outputs": [
    {
     "data": {
      "text/plain": [
       "array([[ 0.        ,  0.95419393,  0.72523498, -0.72694031],\n",
       "       [ 0.        , -0.24667856, -0.26895102,  2.63292749]])"
      ]
     },
     "execution_count": 24,
     "metadata": {},
     "output_type": "execute_result"
    }
   ],
   "source": [
    "C.dot(A.dot(A.dot(A)))"
   ]
  },
  {
   "cell_type": "code",
   "execution_count": null,
   "metadata": {
    "collapsed": true
   },
   "outputs": [],
   "source": []
  }
 ],
 "metadata": {
  "kernelspec": {
   "display_name": "Python 2",
   "language": "python",
   "name": "python2"
  },
  "language_info": {
   "codemirror_mode": {
    "name": "ipython",
    "version": 2
   },
   "file_extension": ".py",
   "mimetype": "text/x-python",
   "name": "python",
   "nbconvert_exporter": "python",
   "pygments_lexer": "ipython2",
   "version": "2.7.11"
  }
 },
 "nbformat": 4,
 "nbformat_minor": 0
}
