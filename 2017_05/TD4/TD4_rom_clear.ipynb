{
 "cells": [
  {
   "cell_type": "code",
   "execution_count": null,
   "metadata": {
    "collapsed": false
   },
   "outputs": [],
   "source": [
    "#coding: utf-8\n",
    "\n",
    "import time\n",
    "import pyautogui as pa\n",
    "\n",
    "for i in range(5):\n",
    "    pos_list = pa.locateAllOnScreen(\"img_1.png\")\n",
    "    # pos_list = pa.locateAllOnScreen(\"img_0.png\")\n",
    "    for pos in pos_list:\n",
    "        print( pos )\n",
    "        x = pos[0]+8\n",
    "        y = pos[1]+7\n",
    "\n",
    "        # マウスカーソルの移動(左上を(0,0)とする)\n",
    "        pa.moveTo(x,y,duration=0.0)\n",
    "        pa.click()\n",
    "        # 指定したキーを押す\n",
    "        pa.press(keys=\"0\",presses=2,interval=0.0)\n",
    "        # pa.press(keys=\"1\",presses=2,interval=0.0)\n",
    "        \n",
    "    # スクロール(上に移動するのが正)\n",
    "    pa.scroll(clicks=-2500,x=100,y=100)\n"
   ]
  },
  {
   "cell_type": "code",
   "execution_count": null,
   "metadata": {
    "collapsed": true
   },
   "outputs": [],
   "source": []
  },
  {
   "cell_type": "code",
   "execution_count": null,
   "metadata": {
    "collapsed": true
   },
   "outputs": [],
   "source": []
  }
 ],
 "metadata": {
  "kernelspec": {
   "display_name": "Python 2",
   "language": "python",
   "name": "python2"
  },
  "language_info": {
   "codemirror_mode": {
    "name": "ipython",
    "version": 2
   },
   "file_extension": ".py",
   "mimetype": "text/x-python",
   "name": "python",
   "nbconvert_exporter": "python",
   "pygments_lexer": "ipython2",
   "version": "2.7.11"
  }
 },
 "nbformat": 4,
 "nbformat_minor": 0
}
