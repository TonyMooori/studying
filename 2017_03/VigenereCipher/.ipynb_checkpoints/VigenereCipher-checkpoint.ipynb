{
 "cells": [
  {
   "cell_type": "code",
   "execution_count": 32,
   "metadata": {
    "collapsed": false
   },
   "outputs": [],
   "source": [
    "def alpha_num(c):\n",
    "    return ord(c)-ord('a')\n",
    "\n",
    "def char_convert(p,key):\n",
    "    return chr(ord('a') + (alpha_num(key)-alpha_num(p)) % 26)\n",
    "\n",
    "def encrypt(plaintext,keyword,flag = False):\n",
    "    ciphertext = \"\"\n",
    "    \n",
    "    for i in range(len(plaintext)):\n",
    "        key = keyword[i%len(keyword)]\n",
    "        p = plaintext[i]\n",
    "        ciphertext += char_convert(p,key)\n",
    "    return ciphertext\n",
    "\n",
    "def decrypt(ciphertext,keyword):\n",
    "    return encrypt(ciphertext,keyword)\n",
    "\n",
    "def make_plaintext(text):\n",
    "    ret = \"\"\n",
    "    text = text.lower()\n",
    "    f = lambda x: x if (ord('a') <= ord(x) <= ord('z'))else \"\"\n",
    "    ret = reduce(lambda x,y:x+y,[f(c) for c in text])\n",
    "    \n",
    "    return str(ret)"
   ]
  },
  {
   "cell_type": "code",
   "execution_count": 33,
   "metadata": {
    "collapsed": false
   },
   "outputs": [
    {
     "name": "stdout",
     "output_type": "stream",
     "text": [
      "mamifsgscqbghgkthapbmamifijcib\n"
     ]
    }
   ],
   "source": [
    "print encrypt(\"hellomrbrownmynameishelloworld\",\"text\")"
   ]
  },
  {
   "cell_type": "code",
   "execution_count": 34,
   "metadata": {
    "collapsed": false
   },
   "outputs": [
    {
     "data": {
      "text/plain": [
       "'mamifsgscqbghgkthapbmamifijcib'"
      ]
     },
     "execution_count": 34,
     "metadata": {},
     "output_type": "execute_result"
    }
   ],
   "source": [
    "encrypt(\"hellomrbrownmynameishelloworld\",\"text\")"
   ]
  },
  {
   "cell_type": "code",
   "execution_count": 35,
   "metadata": {
    "collapsed": false
   },
   "outputs": [
    {
     "data": {
      "text/plain": [
       "'hellomrbrownmynameishelloworld'"
      ]
     },
     "execution_count": 35,
     "metadata": {},
     "output_type": "execute_result"
    }
   ],
   "source": [
    "decrypt('mamifsgscqbghgkthapbmamifijcib',\"text\")"
   ]
  },
  {
   "cell_type": "code",
   "execution_count": 36,
   "metadata": {
    "collapsed": false
   },
   "outputs": [
    {
     "data": {
      "text/plain": [
       "'hellomrbrownmynameishelloworld'"
      ]
     },
     "execution_count": 36,
     "metadata": {},
     "output_type": "execute_result"
    }
   ],
   "source": [
    "decrypt(encrypt(\"hellomrbrownmynameishelloworld\",\"text\"),\"text\")"
   ]
  },
  {
   "cell_type": "code",
   "execution_count": 37,
   "metadata": {
    "collapsed": false
   },
   "outputs": [
    {
     "data": {
      "text/plain": [
       "'hellomrbrownmynameishelloworld'"
      ]
     },
     "execution_count": 37,
     "metadata": {},
     "output_type": "execute_result"
    }
   ],
   "source": [
    "make_plaintext(\"Hello, Mr.Brown. My name is Hello World.\")"
   ]
  }
 ],
 "metadata": {
  "kernelspec": {
   "display_name": "Python 2",
   "language": "python",
   "name": "python2"
  },
  "language_info": {
   "codemirror_mode": {
    "name": "ipython",
    "version": 2
   },
   "file_extension": ".py",
   "mimetype": "text/x-python",
   "name": "python",
   "nbconvert_exporter": "python",
   "pygments_lexer": "ipython2",
   "version": "2.7.11"
  }
 },
 "nbformat": 4,
 "nbformat_minor": 0
}
