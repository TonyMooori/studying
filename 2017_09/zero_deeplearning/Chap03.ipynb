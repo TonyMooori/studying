{
 "cells": [
  {
   "cell_type": "code",
   "execution_count": 1,
   "metadata": {
    "collapsed": true
   },
   "outputs": [],
   "source": [
    "import numpy as np\n",
    "import matplotlib.pyplot as plt\n",
    "\n",
    "%matplotlib inline"
   ]
  },
  {
   "cell_type": "code",
   "execution_count": 19,
   "metadata": {
    "collapsed": true
   },
   "outputs": [],
   "source": [
    "def test_function(h):\n",
    "    x = np.linspace(-10,10,num=1000)\n",
    "    plt.ylim(-0.5,1.5)\n",
    "    return plt.plot(x,h(x))"
   ]
  },
  {
   "cell_type": "code",
   "execution_count": 20,
   "metadata": {
    "collapsed": false
   },
   "outputs": [
    {
     "data": {
      "text/plain": [
       "[<matplotlib.lines.Line2D at 0x7da5ab0>]"
      ]
     },
     "execution_count": 20,
     "metadata": {},
     "output_type": "execute_result"
    },
    {
     "data": {
      "image/png": "[encoded data removed]",
      "text/plain": [
       "<matplotlib.figure.Figure at 0x7cea190>"
      ]
     },
     "metadata": {},
     "output_type": "display_data"
    }
   ],
   "source": [
    "def sigmoid(x):\n",
    "    \"\"\" シグモイド関数 \"\"\"\n",
    "    return 1/(1+np.exp(-x))\n",
    "test_function(sigmoid)"
   ]
  },
  {
   "cell_type": "code",
   "execution_count": 21,
   "metadata": {
    "collapsed": false
   },
   "outputs": [
    {
     "data": {
      "text/plain": [
       "[<matplotlib.lines.Line2D at 0x7f1bbf0>]"
      ]
     },
     "execution_count": 21,
     "metadata": {},
     "output_type": "execute_result"
    },
    {
     "data": {
      "image/png": "[encoded data removed]",
      "text/plain": [
       "<matplotlib.figure.Figure at 0x7d0fa50>"
      ]
     },
     "metadata": {},
     "output_type": "display_data"
    }
   ],
   "source": [
    "def step_function(x):\n",
    "    y = x>0 # booleanのアレ\n",
    "    return y.astype(np.int)\n",
    "test_function(step_function)"
   ]
  },
  {
   "cell_type": "code",
   "execution_count": 23,
   "metadata": {
    "collapsed": false
   },
   "outputs": [
    {
     "data": {
      "text/plain": [
       "[<matplotlib.lines.Line2D at 0x8139db0>]"
      ]
     },
     "execution_count": 23,
     "metadata": {},
     "output_type": "execute_result"
    },
    {
     "data": {
      "image/png": "[encoded data removed]",
      "text/plain": [
       "<matplotlib.figure.Figure at 0x7fed330>"
      ]
     },
     "metadata": {},
     "output_type": "display_data"
    }
   ],
   "source": [
    "def ReLU(x):\n",
    "    return np.maximum(0,x)\n",
    "test_function(ReLU)"
   ]
  },
  {
   "cell_type": "code",
   "execution_count": 26,
   "metadata": {
    "collapsed": false
   },
   "outputs": [
    {
     "name": "stdout",
     "output_type": "stream",
     "text": [
      "1\n",
      "2\n"
     ]
    }
   ],
   "source": [
    "print np.ndim(np.array([1,2,3,4]))\n",
    "print np.ndim(np.array([[1],[1],[1],[1]]))"
   ]
  },
  {
   "cell_type": "code",
   "execution_count": 27,
   "metadata": {
    "collapsed": true
   },
   "outputs": [],
   "source": [
    "def identity_function(x):\n",
    "    return x"
   ]
  },
  {
   "cell_type": "code",
   "execution_count": 33,
   "metadata": {
    "collapsed": false
   },
   "outputs": [
    {
     "name": "stdout",
     "output_type": "stream",
     "text": [
      "[ 0.32273376  0.71003315]\n"
     ]
    }
   ],
   "source": [
    "# P65\n",
    "def init_network():\n",
    "    network = {}\n",
    "    network[\"W1\"] = np.array([[0.1,0.3,0.5],[0.2,0.4,0.6]])\n",
    "    network[\"b1\"] = np.array([0.1,0.2,0.3])\n",
    "    network[\"W2\"] = np.array([[0.1,0.4],[0.2,0.5],[0.3,0.6]])\n",
    "    network[\"b2\"] = np.array([0.1,0.2])\n",
    "    network[\"W3\"] = np.array([[0.1,0.3],[0.2,0.4]])\n",
    "    network[\"b3\"] = np.array([0.1,0.2])\n",
    "    \n",
    "    return network\n",
    "\n",
    "def foward(network,x,h = sigmoid):\n",
    "    W1,W2,W3 = network[\"W1\"],network[\"W2\"],network[\"W3\"]\n",
    "    b1,b2,b3 = network[\"b1\"],network[\"b2\"],network[\"b3\"]\n",
    "    \n",
    "    a1 = np.dot(x,W1) + b1\n",
    "    z1 = h(a1)\n",
    "    a2 = np.dot(a1,W2)+b2\n",
    "    z2 = h(a2)\n",
    "    a3 = np.dot(z2,W3)+b3\n",
    "    y = identity_function(a3)\n",
    "    \n",
    "    return y\n",
    "\n",
    "network = init_network()\n",
    "x = np.array([1.0,0.5])\n",
    "y = foward(network,x)\n",
    "\n",
    "print(y)"
   ]
  },
  {
   "cell_type": "code",
   "execution_count": 34,
   "metadata": {
    "collapsed": false
   },
   "outputs": [
    {
     "data": {
      "text/plain": [
       "array([ 0.01821127,  0.24519181,  0.73659691])"
      ]
     },
     "execution_count": 34,
     "metadata": {},
     "output_type": "execute_result"
    }
   ],
   "source": [
    "def softmax(x):\n",
    "    a = np.exp(x)\n",
    "    b = np.sum(a)\n",
    "    return a/b\n",
    "\n",
    "softmax([0.3,2.9,4.0])"
   ]
  },
  {
   "cell_type": "code",
   "execution_count": 35,
   "metadata": {
    "collapsed": false
   },
   "outputs": [
    {
     "data": {
      "text/plain": [
       "array([ 0.01821127,  0.24519181,  0.73659691])"
      ]
     },
     "execution_count": 35,
     "metadata": {},
     "output_type": "execute_result"
    }
   ],
   "source": [
    "def softmax2(x):\n",
    "    c = np.max(x)\n",
    "    a = np.exp(x-c) # オーバーフロー対策\n",
    "    b = np.sum(a)\n",
    "    return a/b\n",
    "\n",
    "softmax2([0.3,2.9,4.0])"
   ]
  },
  {
   "cell_type": "code",
   "execution_count": null,
   "metadata": {
    "collapsed": true
   },
   "outputs": [],
   "source": []
  }
 ],
 "metadata": {
  "kernelspec": {
   "display_name": "Python 2",
   "language": "python",
   "name": "python2"
  },
  "language_info": {
   "codemirror_mode": {
    "name": "ipython",
    "version": 2
   },
   "file_extension": ".py",
   "mimetype": "text/x-python",
   "name": "python",
   "nbconvert_exporter": "python",
   "pygments_lexer": "ipython2",
   "version": "2.7.11"
  }
 },
 "nbformat": 4,
 "nbformat_minor": 2
}
