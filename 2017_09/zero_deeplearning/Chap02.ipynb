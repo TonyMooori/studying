{
 "cells": [
  {
   "cell_type": "code",
   "execution_count": 7,
   "metadata": {
    "collapsed": true
   },
   "outputs": [],
   "source": [
    "import numpy as np\n",
    "import matplotlib.pyplot as plt"
   ]
  },
  {
   "cell_type": "code",
   "execution_count": 8,
   "metadata": {
    "collapsed": false
   },
   "outputs": [
    {
     "name": "stdout",
     "output_type": "stream",
     "text": [
      "AND(0,0)=0\n",
      "AND(1,0)=0\n",
      "AND(0,1)=0\n",
      "AND(1,1)=1\n"
     ]
    }
   ],
   "source": [
    "def AND(x1,x2):\n",
    "    w1,w2,theta = 0.5,0.5,0.7\n",
    "    \n",
    "    temp = x1 * w1 + x2 * w2\n",
    "    if temp <= theta:\n",
    "        return 0\n",
    "    else:\n",
    "        return 1\n",
    "    \n",
    "for i in range(4):\n",
    "    print(\"AND(%d,%d)=%d\" % (i%2,i/2,AND(i%2,i/2))  )"
   ]
  },
  {
   "cell_type": "code",
   "execution_count": 9,
   "metadata": {
    "collapsed": false
   },
   "outputs": [
    {
     "name": "stdout",
     "output_type": "stream",
     "text": [
      "AND2(0,0)=0\n",
      "AND2(1,0)=0\n",
      "AND2(0,1)=0\n",
      "AND2(1,1)=1\n"
     ]
    }
   ],
   "source": [
    "def AND2(x1,x2):\n",
    "    x =  np.array([x1,x2,1])\n",
    "    w = np.array([0.5,0.5,-0.7])\n",
    "    temp = x.dot(w)\n",
    "    if temp < 0:\n",
    "        return 0\n",
    "    else:\n",
    "        return 1\n",
    "    \n",
    "for i in range(4):\n",
    "    print(\"AND2(%d,%d)=%d\" % (i%2,i/2,AND2(i%2,i/2))  )"
   ]
  },
  {
   "cell_type": "code",
   "execution_count": 10,
   "metadata": {
    "collapsed": false
   },
   "outputs": [
    {
     "name": "stdout",
     "output_type": "stream",
     "text": [
      "NAND(0,0)=1\n",
      "NAND(1,0)=1\n",
      "NAND(0,1)=1\n",
      "NAND(1,1)=0\n"
     ]
    }
   ],
   "source": [
    "def NAND(x1,x2):\n",
    "    x =  np.array([x1,x2,1])\n",
    "    w = np.array([-0.5,-0.5,0.7])\n",
    "    temp = x.dot(w)\n",
    "    if temp < 0:\n",
    "        return 0\n",
    "    else:\n",
    "        return 1\n",
    "    \n",
    "for i in range(4):\n",
    "    print(\"NAND(%d,%d)=%d\" % (i%2,i/2,NAND(i%2,i/2))  )"
   ]
  },
  {
   "cell_type": "code",
   "execution_count": 11,
   "metadata": {
    "collapsed": false
   },
   "outputs": [
    {
     "name": "stdout",
     "output_type": "stream",
     "text": [
      "OR(0,0)=0\n",
      "OR(1,0)=1\n",
      "OR(0,1)=1\n",
      "OR(1,1)=1\n"
     ]
    }
   ],
   "source": [
    "def OR(x1,x2):\n",
    "    x =  np.array([x1,x2,1])\n",
    "    w = np.array([1,1,-0.5])\n",
    "    temp = x.dot(w)\n",
    "    if temp < 0:\n",
    "        return 0\n",
    "    else:\n",
    "        return 1\n",
    "    \n",
    "for i in range(4):\n",
    "    print(\"OR(%d,%d)=%d\" % (i%2,i/2,OR(i%2,i/2))  )"
   ]
  },
  {
   "cell_type": "code",
   "execution_count": 13,
   "metadata": {
    "collapsed": false
   },
   "outputs": [
    {
     "name": "stdout",
     "output_type": "stream",
     "text": [
      "XOR(0,0)=0\n",
      "XOR(1,0)=1\n",
      "XOR(0,1)=1\n",
      "XOR(1,1)=0\n"
     ]
    }
   ],
   "source": [
    "def XOR(x1,x2):\n",
    "    return AND(OR(x1,x2),NAND(x1,x2))\n",
    "\n",
    "for i in range(4):\n",
    "    print(\"XOR(%d,%d)=%d\" % (i%2,i/2,XOR(i%2,i/2))  )"
   ]
  },
  {
   "cell_type": "code",
   "execution_count": null,
   "metadata": {
    "collapsed": true
   },
   "outputs": [],
   "source": []
  }
 ],
 "metadata": {
  "kernelspec": {
   "display_name": "Python 2",
   "language": "python",
   "name": "python2"
  },
  "language_info": {
   "codemirror_mode": {
    "name": "ipython",
    "version": 2
   },
   "file_extension": ".py",
   "mimetype": "text/x-python",
   "name": "python",
   "nbconvert_exporter": "python",
   "pygments_lexer": "ipython2",
   "version": "2.7.11"
  }
 },
 "nbformat": 4,
 "nbformat_minor": 2
}
