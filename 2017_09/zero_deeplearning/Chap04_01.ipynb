{
 "cells": [
  {
   "cell_type": "code",
   "execution_count": 39,
   "metadata": {
    "collapsed": true
   },
   "outputs": [],
   "source": [
    "import numpy as np\n",
    "import matplotlib.pyplot as plt\n",
    "import pandas as pd\n",
    "\n",
    "%matplotlib inline"
   ]
  },
  {
   "cell_type": "code",
   "execution_count": 49,
   "metadata": {
    "collapsed": false
   },
   "outputs": [],
   "source": [
    "\n",
    "def cross_entropy_error(y,t,eps=1e-8):\n",
    "    \"\"\" common/functions.py  \"\"\"\n",
    "    \n",
    "    if y.ndim == 1:\n",
    "        t = t.reshape(1,t.size)\n",
    "        y = y.reshape(1,y.size)\n",
    "    \n",
    "    # one-hot-vectorから正解ラベルのインデックスに\n",
    "    if t.size == y.size:\n",
    "        t = t.argmax(axis=1)\n",
    "    batch_size = y.shape[0]\n",
    "    # print y\n",
    "    # print y[np.arange(batch_size),t]\n",
    "    return -np.sum(np.log(y[np.arange(batch_size),t]+eps))/batch_size\n",
    "\n",
    "def softmax(x):\n",
    "    \"\"\" common/functions.py  \"\"\"\n",
    "    \n",
    "    \n",
    "    # mnistとかやる場合は2次元配列(データ数x入力次元)\n",
    "    if x.ndim == 2:\n",
    "        x = x.T\n",
    "        x = x - np.max(x,axis=0)\n",
    "        exp_x = np.exp(x)\n",
    "        y = exp_x / np.sum(exp_x,axis=0)\n",
    "        return y.T\n",
    "    \n",
    "    x = x - np.max(x)\n",
    "    exp_x = np.exp(x)\n",
    "    return exp_x / np.sum(exp_x)\n",
    "\n",
    "def sigmoid(x):\n",
    "    \"\"\" シグモイド関数 \"\"\"\n",
    "    return 1/(1+np.exp(-x))\n",
    "\n"
   ]
  },
  {
   "cell_type": "code",
   "execution_count": 50,
   "metadata": {
    "collapsed": true
   },
   "outputs": [],
   "source": [
    "#coding:utf-8\n",
    "import numpy as np\n",
    "\n",
    "def numerical_gradient(f,x,eps=1e-8):\n",
    "    \"\"\" common/gradient.py \"\"\"\n",
    "    f0 = f(x)\n",
    "    grad = np.zeros_like(x)\n",
    "\n",
    "    # http://www.aipacommander.com/entry/2017/05/14/172220    \n",
    "    it = np.nditer(x, flags=['multi_index'], op_flags=['readwrite'])\n",
    "    while not it.finished:\n",
    "        i = it.multi_index\n",
    "        #print i\n",
    "        \n",
    "        x[i]+=eps\n",
    "        f1 = f(x)\n",
    "        x[i]-=eps\n",
    "        grad[i] = (f1-f0)/eps\n",
    "        \n",
    "        it.iternext()\n",
    "    \n",
    "    return grad\n",
    "\n"
   ]
  },
  {
   "cell_type": "code",
   "execution_count": 51,
   "metadata": {
    "collapsed": true
   },
   "outputs": [],
   "source": [
    "from functions import *\n",
    "from gradient import *\n",
    "import numpy as np\n",
    "\n",
    "class TwoLayerNet:\n",
    "    def __init__(self,input_size,hidden_size,output_size,weight_init_std=0.01):\n",
    "        self.params={}\n",
    "        self.params[\"W1\"] = weight_init_std * np.random.randn(input_size,hidden_size)\n",
    "        self.params[\"W2\"] = weight_init_std * np.random.randn(hidden_size,output_size)\n",
    "        self.params[\"b1\"] = np.zeros(hidden_size)\n",
    "        self.params[\"b2\"] = np.zeros(output_size)\n",
    "    \n",
    "    def predict(self,x):\n",
    "        W1,W2 = self.params[\"W1\"],self.params[\"W2\"]\n",
    "        b1,b2 = self.params[\"b1\"],self.params[\"b2\"]\n",
    "        \n",
    "        a1 = np.dot(x,W1)+b1\n",
    "        z1 = sigmoid(a1)\n",
    "        a2 = np.dot(z1,W2)+b2\n",
    "        y = softmax(a2)\n",
    "        \n",
    "        return y\n",
    "    \n",
    "    def loss(self,x,t):\n",
    "        y = self.predict(x)\n",
    "        \n",
    "        return cross_entropy_error(y,t)\n",
    "    \n",
    "    def accuracy(self,x,t):\n",
    "        y = self.predict(x)\n",
    "        y = np.argmax(y,axis=1)\n",
    "        t = np.argmax(t,axis=1)\n",
    "        \n",
    "        accuracy = np.sum(y==t) / float(x.shape[0])\n",
    "        return accuracy\n",
    "    \n",
    "    def numerical_gradient(self,x,t):\n",
    "        loss_W = lambda W:self.loss(x,t)\n",
    "        \n",
    "        grads = {}\n",
    "        for key in [\"W1\",\"b1\",\"W2\",\"b2\"]:\n",
    "            grads[key] = numerical_gradient(loss_W,self.params[key])\n",
    "        return grads\n",
    "\n"
   ]
  },
  {
   "cell_type": "code",
   "execution_count": 42,
   "metadata": {
    "collapsed": true
   },
   "outputs": [],
   "source": [
    "dataset = pd.read_csv(\"./train.csv\")"
   ]
  },
  {
   "cell_type": "code",
   "execution_count": 43,
   "metadata": {
    "collapsed": false
   },
   "outputs": [],
   "source": [
    "# datasetを読み込む\n",
    "t_temp = dataset[[0]].values.ravel().astype(np.uint8)\n",
    "x_dataset = np.array(dataset.iloc[:,1:].values.astype(np.uint8))\n",
    "n_dataset = len(t_temp)\n",
    "t_dataset = np.zeros((n_dataset,10),np.uint8)\n",
    "t_dataset[np.arange(n_dataset),t_temp]=1 # 1-hot 表現にする\n",
    "\n",
    "# ランダムシャッフルする\n",
    "index = np.arange(n_dataset)\n",
    "np.random.shuffle(index)\n",
    "\n",
    "x_dataset = x_dataset[index]\n",
    "t_dataset = t_dataset[index]\n",
    "\n",
    "# 教師データとテストデータに分割\n",
    "n_test = n_dataset / 4\n",
    "n_train = n_dataset - n_test \n",
    "x_train , t_train, x_test, t_test = \\\n",
    "    x_dataset[:n_train],t_dataset[:n_train],x_dataset[n_train:],t_dataset[n_train:]"
   ]
  },
  {
   "cell_type": "code",
   "execution_count": 53,
   "metadata": {
    "collapsed": false
   },
   "outputs": [
    {
     "name": "stdout",
     "output_type": "stream",
     "text": [
      "itr 0\n"
     ]
    },
    {
     "data": {
      "text/plain": [
       "[<matplotlib.lines.Line2D at 0x1c0e9170>]"
      ]
     },
     "execution_count": 53,
     "metadata": {},
     "output_type": "execute_result"
    },
    {
     "data": {
      "image/png": "[encoded data removed]",
      "text/plain": [
       "<matplotlib.figure.Figure at 0xcc4de50>"
      ]
     },
     "metadata": {},
     "output_type": "display_data"
    }
   ],
   "source": [
    "iter_num = 1#00\n",
    "train_size = x_train.shape[0]\n",
    "batch_size = 100\n",
    "learning_rate = 0.1\n",
    "train_loss_list = []\n",
    "\n",
    "network = TwoLayerNet(input_size = 784,hidden_size = 10,output_size=10)\n",
    "\n",
    "for i in range(iter_num):\n",
    "    print(\"itr %d\" % i)\n",
    "    \n",
    "    batch_mask=np.random.choice(train_size,batch_size)\n",
    "    x_batch = x_train[batch_mask]\n",
    "    t_batch = t_train[batch_mask]\n",
    "    \n",
    "    grad = network.numerical_gradient(x_batch,t_batch)\n",
    "    for key in [\"W1\",\"b1\",\"W2\",\"b2\"]:\n",
    "        network.params[key] -= learning_rate * grad[key]\n",
    "    \n",
    "    loss = network.loss(x_batch,t_batch)\n",
    "    train_loss_list.append(loss)\n",
    "\n",
    "plt.plot(train_loss_list)"
   ]
  },
  {
   "cell_type": "code",
   "execution_count": 29,
   "metadata": {
    "collapsed": false
   },
   "outputs": [
    {
     "data": {
      "text/plain": [
       "[<matplotlib.lines.Line2D at 0x7a71570>]"
      ]
     },
     "execution_count": 29,
     "metadata": {},
     "output_type": "execute_result"
    },
    {
     "data": {
      "image/png": "[encoded data removed]",
      "text/plain": [
       "<matplotlib.figure.Figure at 0x7a57830>"
      ]
     },
     "metadata": {},
     "output_type": "display_data"
    }
   ],
   "source": [
    "plt.plot(train_loss_list)"
   ]
  },
  {
   "cell_type": "code",
   "execution_count": 34,
   "metadata": {
    "collapsed": false
   },
   "outputs": [
    {
     "name": "stdout",
     "output_type": "stream",
     "text": [
      "0.546380952381\n"
     ]
    }
   ],
   "source": [
    "y = network.predict(x_train)\n",
    "y = np.argmax(y,axis=1)\n",
    "t = np.argmax(t_train,axis=1)\n",
    "\n",
    "accuracy = np.sum(y==t) / float(x_train.shape[0])\n",
    "print(accuracy)"
   ]
  },
  {
   "cell_type": "code",
   "execution_count": null,
   "metadata": {
    "collapsed": true
   },
   "outputs": [],
   "source": [
    "y.shape"
   ]
  }
 ],
 "metadata": {
  "kernelspec": {
   "display_name": "Python 2",
   "language": "python",
   "name": "python2"
  },
  "language_info": {
   "codemirror_mode": {
    "name": "ipython",
    "version": 2
   },
   "file_extension": ".py",
   "mimetype": "text/x-python",
   "name": "python",
   "nbconvert_exporter": "python",
   "pygments_lexer": "ipython2",
   "version": "2.7.11"
  }
 },
 "nbformat": 4,
 "nbformat_minor": 2
}
