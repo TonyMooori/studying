{
 "cells": [
  {
   "cell_type": "markdown",
   "metadata": {},
   "source": [
    "参考にしたコードというか殆ど写経しただけだけ\n",
    "https://blog.tiqwab.com/2017/01/04/recursive-descent-parser.html\n",
    "https://github.com/tiqwab/example/tree/master/calc-parser"
   ]
  },
  {
   "cell_type": "code",
   "execution_count": 65,
   "metadata": {
    "collapsed": false
   },
   "outputs": [],
   "source": [
    "\n",
    "class CalcTokenizer:\n",
    "    def __init__(self,source):\n",
    "        self.source = source\n",
    "        self.index = 0\n",
    "        self.token = None\n",
    "    \n",
    "    def is_empty(self):\n",
    "        return len(self.source)<=self.index\n",
    "    \n",
    "    def next_char(self):\n",
    "        if self.is_empty():\n",
    "            return None\n",
    "        ret = self.source[self.index]\n",
    "        self.index+=1\n",
    "        return ret\n",
    "    \n",
    "    def back_char(self):\n",
    "        self.index -= 1\n",
    "    \n",
    "    def is_digit(self,c):\n",
    "        return c in [\"0\",\"1\",\"2\",\"3\",\"4\",\"5\",\"6\",\"7\",\"8\",\"9\"]\n",
    "    \n",
    "    def next_token(self):\n",
    "        self.token = self.next_char()\n",
    "        while self.token == ' ' or self.token == '\\n':\n",
    "            self.token = self.next_char()\n",
    "        \n",
    "        if self.is_digit(self.token):\n",
    "            c = self.next_char()\n",
    "            while self.is_digit(c):\n",
    "                self.token += c\n",
    "                c = self.next_char()\n",
    "            self.back_char()\n",
    "        elif self.token == '*':\n",
    "            c = self.next_char()\n",
    "            if c == '*':\n",
    "                self.token += '*'\n",
    "            else:\n",
    "                self.back_char()\n",
    "        else:\n",
    "            pass\n",
    "        \n",
    "        return self.token"
   ]
  },
  {
   "cell_type": "code",
   "execution_count": 66,
   "metadata": {
    "collapsed": false
   },
   "outputs": [],
   "source": [
    "class Parser:\n",
    "    def __init__(self,code):\n",
    "        self.tokenizer = CalcTokenizer(code+\" \")\n",
    "    \n",
    "    def parse(self):\n",
    "        self.tokenizer.next_token()\n",
    "        return self.expr1()\n",
    "    \n",
    "    def expr1(self):\n",
    "        e = self.term1()\n",
    "        return self.expr2(e)\n",
    "    \n",
    "    def expr2(self,e1):\n",
    "        if self.tokenizer.token == \"+\" or self.tokenizer.token == \"-\" :\n",
    "            cmd = self.tokenizer.token\n",
    "            self.tokenizer.next_token()\n",
    "            e2 = self.term1()\n",
    "            return self.expr2((cmd,e1,e2))\n",
    "        else:\n",
    "            return e1\n",
    "    \n",
    "    def term1(self):\n",
    "        e = self.factor1()\n",
    "        return self.term2(e)\n",
    "    \n",
    "    def term2(self,e1):\n",
    "        if self.tokenizer.token == \"*\" or self.tokenizer.token == \"/\" :\n",
    "            cmd = self.tokenizer.token\n",
    "            self.tokenizer.next_token()\n",
    "            e2 = self.factor1()\n",
    "            return self.term2((cmd,e1,e2))\n",
    "        else:\n",
    "            return e1\n",
    "    \n",
    "    def factor1(self):\n",
    "        e1 = self.factor2()\n",
    "        \n",
    "        if self.tokenizer.token == \"**\":\n",
    "            self.tokenizer.next_token()\n",
    "            e2 = self.factor1()\n",
    "            return (\"**\",e1,e2)\n",
    "        else:\n",
    "            return e1\n",
    "    \n",
    "    def factor2(self):\n",
    "        if self.tokenizer.is_digit(self.tokenizer.token[0]):\n",
    "            return self.number()\n",
    "        elif self.tokenizer.token == '+':\n",
    "            # unary op\n",
    "            self.tokenizer.ext_token()\n",
    "            return self.number\n",
    "        elif self.tokenizer.token == '-':\n",
    "            # unary op\n",
    "            self.tokenizer.next_token()\n",
    "            return (\"*\",-1,self.number())\n",
    "        elif self.tokenizer.token == '(':\n",
    "            self.tokenizer.next_token()\n",
    "            e = self.expr1();\n",
    "            self.tokenizer.next_token() # 括弧閉じ\n",
    "            return e\n",
    "    \n",
    "    def number(self):\n",
    "        number = int(self.tokenizer.token)\n",
    "        self.tokenizer.next_token()\n",
    "        return number"
   ]
  },
  {
   "cell_type": "code",
   "execution_count": 67,
   "metadata": {
    "collapsed": true
   },
   "outputs": [],
   "source": [
    "funcs={}\n",
    "funcs[\"*\"]=lambda a,b:a*b\n",
    "funcs[\"/\"]=lambda a,b:a/b\n",
    "funcs[\"-\"]=lambda a,b:a-b\n",
    "funcs[\"+\"]=lambda a,b:a+b\n",
    "funcs[\"**\"]=lambda a,b:a**b\n",
    "def evaluate(t):\n",
    "    if isinstance(t, tuple):\n",
    "        cmd,a,b = t\n",
    "        return funcs[cmd](evaluate(a),evaluate(b))\n",
    "    else:\n",
    "        return t"
   ]
  },
  {
   "cell_type": "code",
   "execution_count": 68,
   "metadata": {
    "collapsed": false
   },
   "outputs": [],
   "source": [
    "def help_calc(code):\n",
    "    t = Parser(code).parse()\n",
    "    print(t)\n",
    "    print(evaluate(t))\n",
    "    print(eval(code))"
   ]
  },
  {
   "cell_type": "code",
   "execution_count": 69,
   "metadata": {
    "collapsed": false
   },
   "outputs": [
    {
     "name": "stdout",
     "output_type": "stream",
     "text": [
      "('+', ('+', ('*', 5, 2), ('*', ('*', 1, ('+', 2, 2)), 5)), ('**', 2, 4))\n",
      "46\n",
      "46\n",
      "('+', ('+', ('*', 2, 1), ('*', 2, 4)), 1)\n",
      "11\n",
      "11\n",
      "('-', ('+', ('*', 1, 2), ('**', 5, ('**', 3, 2))), 5)\n",
      "1953122\n",
      "1953122\n"
     ]
    }
   ],
   "source": [
    "help_calc(\"5*2+1*(2+2)*5+2**4\")\n",
    "help_calc(\"2*1+2*4+1\")\n",
    "help_calc(\"1 * 2 + 5 ** 3 ** 2 - 5\")"
   ]
  },
  {
   "cell_type": "code",
   "execution_count": null,
   "metadata": {
    "collapsed": true
   },
   "outputs": [],
   "source": []
  },
  {
   "cell_type": "code",
   "execution_count": null,
   "metadata": {
    "collapsed": true
   },
   "outputs": [],
   "source": []
  }
 ],
 "metadata": {
  "kernelspec": {
   "display_name": "Python 2",
   "language": "python",
   "name": "python2"
  },
  "language_info": {
   "codemirror_mode": {
    "name": "ipython",
    "version": 2
   },
   "file_extension": ".py",
   "mimetype": "text/x-python",
   "name": "python",
   "nbconvert_exporter": "python",
   "pygments_lexer": "ipython2",
   "version": "2.7.11"
  }
 },
 "nbformat": 4,
 "nbformat_minor": 0
}
